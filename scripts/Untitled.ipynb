{
 "cells": [
  {
   "cell_type": "markdown",
   "id": "458570a0-6b6e-45f0-ae4b-3f4a8fdcdc09",
   "metadata": {},
   "source": [
    "## League"
   ]
  },
  {
   "cell_type": "code",
   "execution_count": 1,
   "id": "e8e4afb3-ac35-40d3-bc34-d65d2984c824",
   "metadata": {
    "scrolled": true
   },
   "outputs": [],
   "source": [
    "import os\n",
    "from wfmaster.scraper import LeagueScraper\n",
    "\n",
    "scraper = LeagueScraper()"
   ]
  },
  {
   "cell_type": "code",
   "execution_count": null,
   "id": "fc4b4a3f-b767-4aed-8e28-8130416d3095",
   "metadata": {
    "scrolled": true
   },
   "outputs": [],
   "source": [
    "scraper.scrape()"
   ]
  },
  {
   "cell_type": "code",
   "execution_count": null,
   "id": "bec88429-86d5-45a0-a667-5e6c7afeca3c",
   "metadata": {
    "scrolled": true
   },
   "outputs": [],
   "source": [
    "data = scraper.scrape()"
   ]
  },
  {
   "cell_type": "code",
   "execution_count": 17,
   "id": "15c3ba65-4b0e-44ef-9082-a0a1e8291892",
   "metadata": {
    "scrolled": true
   },
   "outputs": [],
   "source": [
    "scraper.save()"
   ]
  },
  {
   "cell_type": "code",
   "execution_count": 1,
   "id": "87ce87dc-166a-4ccc-b2ee-5e0767947e0d",
   "metadata": {},
   "outputs": [],
   "source": [
    "import pandas as pd\n",
    "\n",
    "df = pd.read_excel(\"../output/sch_leaguescraper.xlsx\")"
   ]
  },
  {
   "cell_type": "code",
   "execution_count": 2,
   "id": "8cd54ff4-5944-4471-a8b6-3dd32ef4730e",
   "metadata": {},
   "outputs": [],
   "source": [
    "from wfmaster.cleaner import LeagueCleaner"
   ]
  },
  {
   "cell_type": "code",
   "execution_count": 3,
   "id": "504c30bd-5721-45ed-855f-cc23ada95c0e",
   "metadata": {},
   "outputs": [],
   "source": [
    "cleaner = LeagueCleaner()"
   ]
  },
  {
   "cell_type": "code",
   "execution_count": 4,
   "id": "292561ff-54cb-407b-9d0d-23e8399ac466",
   "metadata": {},
   "outputs": [],
   "source": [
    "cleaner.clean(input_data=df)"
   ]
  },
  {
   "cell_type": "code",
   "execution_count": 5,
   "id": "bff969ed-8815-4e86-9b2f-1426e727e196",
   "metadata": {},
   "outputs": [],
   "source": [
    "# cleaner.update_final_schedule(initial=True)"
   ]
  },
  {
   "cell_type": "code",
   "execution_count": 6,
   "id": "1504763d-5058-490f-8366-a97193fb2b6d",
   "metadata": {},
   "outputs": [],
   "source": [
    "cleaner.save()"
   ]
  },
  {
   "cell_type": "code",
   "execution_count": 7,
   "id": "db9985fd-982d-4f01-9e03-ac8cea58f043",
   "metadata": {},
   "outputs": [],
   "source": [
    "cleaner.update_final_schedule()"
   ]
  },
  {
   "cell_type": "code",
   "execution_count": null,
   "id": "85e0372f-ff10-4814-8ca0-ef41986a3242",
   "metadata": {},
   "outputs": [],
   "source": []
  },
  {
   "cell_type": "markdown",
   "id": "04027114-8808-4eed-8986-9a6f2be9773d",
   "metadata": {},
   "source": [
    "## Cup"
   ]
  },
  {
   "cell_type": "code",
   "execution_count": 4,
   "id": "1218ba78-b122-43d3-9209-5759550ca33d",
   "metadata": {},
   "outputs": [
    {
     "ename": "FileNotFoundError",
     "evalue": "[Errno 2] No such file or directory: 'D:\\\\wangxiaoyang\\\\Regular_Work\\\\Produce_Report\\\\Schedule\\\\WorldFootballMaster\\\\scripts\\\\output\\\\worldfootball_master.log'",
     "output_type": "error",
     "traceback": [
      "\u001b[1;31m---------------------------------------------------------------------------\u001b[0m",
      "\u001b[1;31mFileNotFoundError\u001b[0m                         Traceback (most recent call last)",
      "Cell \u001b[1;32mIn[4], line 8\u001b[0m\n\u001b[0;32m      4\u001b[0m sys\u001b[38;5;241m.\u001b[39mpath\u001b[38;5;241m.\u001b[39minsert(\u001b[38;5;241m0\u001b[39m, \u001b[38;5;124mr\u001b[39m\u001b[38;5;124m\"\u001b[39m\u001b[38;5;124mD:\u001b[39m\u001b[38;5;124m\\\u001b[39m\u001b[38;5;124mwangxiaoyang\u001b[39m\u001b[38;5;124m\\\u001b[39m\u001b[38;5;124mRegular_Work\u001b[39m\u001b[38;5;124m\\\u001b[39m\u001b[38;5;124mProduce_Report\u001b[39m\u001b[38;5;124m\\\u001b[39m\u001b[38;5;124mSchedule\u001b[39m\u001b[38;5;124m\\\u001b[39m\u001b[38;5;124mWorldFootballMaster\u001b[39m\u001b[38;5;124m\"\u001b[39m)\n\u001b[0;32m      6\u001b[0m \u001b[38;5;28;01mfrom\u001b[39;00m \u001b[38;5;21;01mwfmaster\u001b[39;00m\u001b[38;5;21;01m.\u001b[39;00m\u001b[38;5;21;01mscraper\u001b[39;00m \u001b[38;5;28;01mimport\u001b[39;00m CupScraper\n\u001b[1;32m----> 8\u001b[0m scraper \u001b[38;5;241m=\u001b[39m CupScraper()\n",
      "File \u001b[1;32mD:\\wangxiaoyang\\Regular_Work\\Produce_Report\\Schedule\\WorldFootballMaster\\wfmaster\\scraper\\cup_scraper.py:20\u001b[0m, in \u001b[0;36mCupScraper.__init__\u001b[1;34m(self, config_dir)\u001b[0m\n\u001b[0;32m     13\u001b[0m \u001b[38;5;28;01mdef\u001b[39;00m \u001b[38;5;21m__init__\u001b[39m(\u001b[38;5;28mself\u001b[39m, config_dir: \u001b[38;5;28mstr\u001b[39m \u001b[38;5;241m=\u001b[39m \u001b[38;5;28;01mNone\u001b[39;00m):\n\u001b[0;32m     14\u001b[0m \u001b[38;5;250m    \u001b[39m\u001b[38;5;124;03m\"\"\"Initialize UEFAScraper\u001b[39;00m\n\u001b[0;32m     15\u001b[0m \u001b[38;5;124;03m    \u001b[39;00m\n\u001b[0;32m     16\u001b[0m \u001b[38;5;124;03m    Args:\u001b[39;00m\n\u001b[0;32m     17\u001b[0m \u001b[38;5;124;03m        output_dir: Directory to save output files\u001b[39;00m\n\u001b[0;32m     18\u001b[0m \u001b[38;5;124;03m        config_dir: Optional directory containing configuration files\u001b[39;00m\n\u001b[0;32m     19\u001b[0m \u001b[38;5;124;03m    \"\"\"\u001b[39;00m\n\u001b[1;32m---> 20\u001b[0m     \u001b[38;5;28msuper\u001b[39m()\u001b[38;5;241m.\u001b[39m\u001b[38;5;21m__init__\u001b[39m(config_dir)\n\u001b[0;32m     21\u001b[0m     \u001b[38;5;28mself\u001b[39m\u001b[38;5;241m.\u001b[39mconfig \u001b[38;5;241m=\u001b[39m get_config(config_dir)\n\u001b[0;32m     22\u001b[0m     \u001b[38;5;28mself\u001b[39m\u001b[38;5;241m.\u001b[39mCOMPETITION_MAP \u001b[38;5;241m=\u001b[39m \u001b[38;5;28mself\u001b[39m\u001b[38;5;241m.\u001b[39mconfig\u001b[38;5;241m.\u001b[39mcompetition_mapping\n",
      "File \u001b[1;32mD:\\wangxiaoyang\\Regular_Work\\Produce_Report\\Schedule\\WorldFootballMaster\\wfmaster\\scraper\\base_scraper.py:27\u001b[0m, in \u001b[0;36mBaseScraper.__init__\u001b[1;34m(self, config_dir)\u001b[0m\n\u001b[0;32m     21\u001b[0m \u001b[38;5;250m\u001b[39m\u001b[38;5;124;03m\"\"\"Initialize the scraper with basic configuration\u001b[39;00m\n\u001b[0;32m     22\u001b[0m \u001b[38;5;124;03m\u001b[39;00m\n\u001b[0;32m     23\u001b[0m \u001b[38;5;124;03mArgs:\u001b[39;00m\n\u001b[0;32m     24\u001b[0m \u001b[38;5;124;03m    config_dir: Optional directory containing configuration files\u001b[39;00m\n\u001b[0;32m     25\u001b[0m \u001b[38;5;124;03m\"\"\"\u001b[39;00m\n\u001b[0;32m     26\u001b[0m \u001b[38;5;28mself\u001b[39m\u001b[38;5;241m.\u001b[39mconfig \u001b[38;5;241m=\u001b[39m get_config(config_dir)\n\u001b[1;32m---> 27\u001b[0m \u001b[38;5;28mself\u001b[39m\u001b[38;5;241m.\u001b[39m_setup_logging()\n\u001b[0;32m     28\u001b[0m \u001b[38;5;28mself\u001b[39m\u001b[38;5;241m.\u001b[39mdata \u001b[38;5;241m=\u001b[39m pd\u001b[38;5;241m.\u001b[39mDataFrame(columns\u001b[38;5;241m=\u001b[39m\u001b[38;5;28mself\u001b[39m\u001b[38;5;241m.\u001b[39mCOMMON_COLUMNS)\n",
      "File \u001b[1;32mD:\\wangxiaoyang\\Regular_Work\\Produce_Report\\Schedule\\WorldFootballMaster\\wfmaster\\scraper\\base_scraper.py:33\u001b[0m, in \u001b[0;36mBaseScraper._setup_logging\u001b[1;34m(self)\u001b[0m\n\u001b[0;32m     31\u001b[0m \u001b[38;5;250m\u001b[39m\u001b[38;5;124;03m\"\"\"Configure logging for the scraper\"\"\"\u001b[39;00m\n\u001b[0;32m     32\u001b[0m log_file \u001b[38;5;241m=\u001b[39m os\u001b[38;5;241m.\u001b[39mpath\u001b[38;5;241m.\u001b[39mjoin(\u001b[38;5;28mself\u001b[39m\u001b[38;5;241m.\u001b[39mconfig\u001b[38;5;241m.\u001b[39moutput_dir, \u001b[38;5;124m\"\u001b[39m\u001b[38;5;124mworldfootball_master.log\u001b[39m\u001b[38;5;124m\"\u001b[39m)\n\u001b[1;32m---> 33\u001b[0m logging\u001b[38;5;241m.\u001b[39mbasicConfig(\n\u001b[0;32m     34\u001b[0m     filename\u001b[38;5;241m=\u001b[39mlog_file,\n\u001b[0;32m     35\u001b[0m     level\u001b[38;5;241m=\u001b[39mlogging\u001b[38;5;241m.\u001b[39mINFO,\n\u001b[0;32m     36\u001b[0m     \u001b[38;5;28mformat\u001b[39m\u001b[38;5;241m=\u001b[39m\u001b[38;5;124m'\u001b[39m\u001b[38;5;132;01m%(asctime)s\u001b[39;00m\u001b[38;5;124m - \u001b[39m\u001b[38;5;132;01m%(levelname)s\u001b[39;00m\u001b[38;5;124m: \u001b[39m\u001b[38;5;132;01m%(message)s\u001b[39;00m\u001b[38;5;124m'\u001b[39m\n\u001b[0;32m     37\u001b[0m )\n\u001b[0;32m     38\u001b[0m \u001b[38;5;28mself\u001b[39m\u001b[38;5;241m.\u001b[39mlogger \u001b[38;5;241m=\u001b[39m logging\u001b[38;5;241m.\u001b[39mgetLogger(\u001b[38;5;28mself\u001b[39m\u001b[38;5;241m.\u001b[39m\u001b[38;5;18m__class__\u001b[39m\u001b[38;5;241m.\u001b[39m\u001b[38;5;18m__name__\u001b[39m)\n",
      "File \u001b[1;32mD:\\anaconda3\\Lib\\logging\\__init__.py:2118\u001b[0m, in \u001b[0;36mbasicConfig\u001b[1;34m(**kwargs)\u001b[0m\n\u001b[0;32m   2116\u001b[0m     \u001b[38;5;28;01melse\u001b[39;00m:\n\u001b[0;32m   2117\u001b[0m         encoding \u001b[38;5;241m=\u001b[39m io\u001b[38;5;241m.\u001b[39mtext_encoding(encoding)\n\u001b[1;32m-> 2118\u001b[0m     h \u001b[38;5;241m=\u001b[39m FileHandler(filename, mode,\n\u001b[0;32m   2119\u001b[0m                     encoding\u001b[38;5;241m=\u001b[39mencoding, errors\u001b[38;5;241m=\u001b[39merrors)\n\u001b[0;32m   2120\u001b[0m \u001b[38;5;28;01melse\u001b[39;00m:\n\u001b[0;32m   2121\u001b[0m     stream \u001b[38;5;241m=\u001b[39m kwargs\u001b[38;5;241m.\u001b[39mpop(\u001b[38;5;124m\"\u001b[39m\u001b[38;5;124mstream\u001b[39m\u001b[38;5;124m\"\u001b[39m, \u001b[38;5;28;01mNone\u001b[39;00m)\n",
      "File \u001b[1;32mD:\\anaconda3\\Lib\\logging\\__init__.py:1231\u001b[0m, in \u001b[0;36mFileHandler.__init__\u001b[1;34m(self, filename, mode, encoding, delay, errors)\u001b[0m\n\u001b[0;32m   1229\u001b[0m     \u001b[38;5;28mself\u001b[39m\u001b[38;5;241m.\u001b[39mstream \u001b[38;5;241m=\u001b[39m \u001b[38;5;28;01mNone\u001b[39;00m\n\u001b[0;32m   1230\u001b[0m \u001b[38;5;28;01melse\u001b[39;00m:\n\u001b[1;32m-> 1231\u001b[0m     StreamHandler\u001b[38;5;241m.\u001b[39m\u001b[38;5;21m__init__\u001b[39m(\u001b[38;5;28mself\u001b[39m, \u001b[38;5;28mself\u001b[39m\u001b[38;5;241m.\u001b[39m_open())\n",
      "File \u001b[1;32mD:\\anaconda3\\Lib\\logging\\__init__.py:1263\u001b[0m, in \u001b[0;36mFileHandler._open\u001b[1;34m(self)\u001b[0m\n\u001b[0;32m   1258\u001b[0m \u001b[38;5;250m\u001b[39m\u001b[38;5;124;03m\"\"\"\u001b[39;00m\n\u001b[0;32m   1259\u001b[0m \u001b[38;5;124;03mOpen the current base file with the (original) mode and encoding.\u001b[39;00m\n\u001b[0;32m   1260\u001b[0m \u001b[38;5;124;03mReturn the resulting stream.\u001b[39;00m\n\u001b[0;32m   1261\u001b[0m \u001b[38;5;124;03m\"\"\"\u001b[39;00m\n\u001b[0;32m   1262\u001b[0m open_func \u001b[38;5;241m=\u001b[39m \u001b[38;5;28mself\u001b[39m\u001b[38;5;241m.\u001b[39m_builtin_open\n\u001b[1;32m-> 1263\u001b[0m \u001b[38;5;28;01mreturn\u001b[39;00m open_func(\u001b[38;5;28mself\u001b[39m\u001b[38;5;241m.\u001b[39mbaseFilename, \u001b[38;5;28mself\u001b[39m\u001b[38;5;241m.\u001b[39mmode,\n\u001b[0;32m   1264\u001b[0m                  encoding\u001b[38;5;241m=\u001b[39m\u001b[38;5;28mself\u001b[39m\u001b[38;5;241m.\u001b[39mencoding, errors\u001b[38;5;241m=\u001b[39m\u001b[38;5;28mself\u001b[39m\u001b[38;5;241m.\u001b[39merrors)\n",
      "\u001b[1;31mFileNotFoundError\u001b[0m: [Errno 2] No such file or directory: 'D:\\\\wangxiaoyang\\\\Regular_Work\\\\Produce_Report\\\\Schedule\\\\WorldFootballMaster\\\\scripts\\\\output\\\\worldfootball_master.log'"
     ]
    }
   ],
   "source": [
    "import os\n",
    "from wfmaster.scraper import CupScraper\n",
    "\n",
    "scraper = CupScraper()"
   ]
  },
  {
   "cell_type": "code",
   "execution_count": 2,
   "id": "f32e9673-9680-4a20-9a12-a29af5a23687",
   "metadata": {},
   "outputs": [
    {
     "name": "stderr",
     "output_type": "stream",
     "text": [
      "Scraping competitions: 100%|██████████████████████████████████████████████████| 16/16 [00:19<00:00,  1.21s/competition]\n"
     ]
    }
   ],
   "source": [
    "data = scraper.scrape()"
   ]
  },
  {
   "cell_type": "code",
   "execution_count": 3,
   "id": "00da552c-b8cf-4ab6-adc4-b3c4a136cc61",
   "metadata": {},
   "outputs": [],
   "source": [
    "scraper.save()"
   ]
  },
  {
   "cell_type": "code",
   "execution_count": 1,
   "id": "947646d7-cab6-4d72-8b42-34d410c1f361",
   "metadata": {},
   "outputs": [],
   "source": [
    "import pandas as pd\n",
    "\n",
    "df = pd.read_excel(\"../output/sch_cupscraper.xlsx\")"
   ]
  },
  {
   "cell_type": "code",
   "execution_count": 2,
   "id": "950d098c-375d-4cf8-85fe-3b65a1ae8251",
   "metadata": {},
   "outputs": [],
   "source": [
    "from wfmaster.cleaner import CupCleaner"
   ]
  },
  {
   "cell_type": "code",
   "execution_count": 3,
   "id": "2d993ac2-a92d-4e9e-9ab7-e44a3b7e897c",
   "metadata": {},
   "outputs": [],
   "source": [
    "cleaner = CupCleaner()"
   ]
  },
  {
   "cell_type": "code",
   "execution_count": 4,
   "id": "83585e55-c68c-4f0a-a5ed-97bffbc8aaf9",
   "metadata": {},
   "outputs": [],
   "source": [
    "cleaner.clean(input_data = df)"
   ]
  },
  {
   "cell_type": "code",
   "execution_count": 5,
   "id": "d9e9e791-eedb-4670-9e24-6dd372075adc",
   "metadata": {},
   "outputs": [],
   "source": [
    "cleaner.save()"
   ]
  },
  {
   "cell_type": "code",
   "execution_count": 6,
   "id": "9417ef68-e4d9-4b38-8d19-b2d65dca8029",
   "metadata": {},
   "outputs": [],
   "source": [
    "cleaner.update_final_schedule()"
   ]
  },
  {
   "cell_type": "code",
   "execution_count": null,
   "id": "c3b51ad3-dff0-4846-a8d8-a21361de3cdc",
   "metadata": {},
   "outputs": [],
   "source": []
  }
 ],
 "metadata": {
  "kernelspec": {
   "display_name": "Python 3 (ipykernel)",
   "language": "python",
   "name": "python3"
  },
  "language_info": {
   "codemirror_mode": {
    "name": "ipython",
    "version": 3
   },
   "file_extension": ".py",
   "mimetype": "text/x-python",
   "name": "python",
   "nbconvert_exporter": "python",
   "pygments_lexer": "ipython3",
   "version": "3.12.3"
  }
 },
 "nbformat": 4,
 "nbformat_minor": 5
}
