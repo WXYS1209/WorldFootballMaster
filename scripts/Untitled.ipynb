{
 "cells": [
  {
   "cell_type": "markdown",
   "id": "458570a0-6b6e-45f0-ae4b-3f4a8fdcdc09",
   "metadata": {},
   "source": [
    "## League"
   ]
  },
  {
   "cell_type": "code",
   "execution_count": 1,
   "id": "e8e4afb3-ac35-40d3-bc34-d65d2984c824",
   "metadata": {
    "scrolled": true
   },
   "outputs": [],
   "source": [
    "import os\n",
    "from wfmaster.scraper import LeagueScraper\n",
    "\n",
    "scraper = LeagueScraper()"
   ]
  },
  {
   "cell_type": "code",
   "execution_count": null,
   "id": "fc4b4a3f-b767-4aed-8e28-8130416d3095",
   "metadata": {
    "scrolled": true
   },
   "outputs": [],
   "source": [
    "scraper.scrape()"
   ]
  },
  {
   "cell_type": "code",
   "execution_count": null,
   "id": "bec88429-86d5-45a0-a667-5e6c7afeca3c",
   "metadata": {
    "scrolled": true
   },
   "outputs": [],
   "source": [
    "data = scraper.scrape()"
   ]
  },
  {
   "cell_type": "code",
   "execution_count": 17,
   "id": "15c3ba65-4b0e-44ef-9082-a0a1e8291892",
   "metadata": {
    "scrolled": true
   },
   "outputs": [],
   "source": [
    "scraper.save()"
   ]
  },
  {
   "cell_type": "code",
   "execution_count": 1,
   "id": "87ce87dc-166a-4ccc-b2ee-5e0767947e0d",
   "metadata": {},
   "outputs": [],
   "source": [
    "import pandas as pd\n",
    "\n",
    "df = pd.read_excel(\"../output/sch_leaguescraper.xlsx\")"
   ]
  },
  {
   "cell_type": "code",
   "execution_count": 2,
   "id": "8cd54ff4-5944-4471-a8b6-3dd32ef4730e",
   "metadata": {},
   "outputs": [],
   "source": [
    "from wfmaster.cleaner import LeagueCleaner"
   ]
  },
  {
   "cell_type": "code",
   "execution_count": 3,
   "id": "504c30bd-5721-45ed-855f-cc23ada95c0e",
   "metadata": {},
   "outputs": [],
   "source": [
    "cleaner = LeagueCleaner()"
   ]
  },
  {
   "cell_type": "code",
   "execution_count": 4,
   "id": "292561ff-54cb-407b-9d0d-23e8399ac466",
   "metadata": {},
   "outputs": [],
   "source": [
    "cleaner.clean(input_data=df)"
   ]
  },
  {
   "cell_type": "code",
   "execution_count": 5,
   "id": "bff969ed-8815-4e86-9b2f-1426e727e196",
   "metadata": {},
   "outputs": [],
   "source": [
    "# cleaner.update_final_schedule(initial=True)"
   ]
  },
  {
   "cell_type": "code",
   "execution_count": 6,
   "id": "1504763d-5058-490f-8366-a97193fb2b6d",
   "metadata": {},
   "outputs": [],
   "source": [
    "cleaner.save()"
   ]
  },
  {
   "cell_type": "code",
   "execution_count": 7,
   "id": "db9985fd-982d-4f01-9e03-ac8cea58f043",
   "metadata": {},
   "outputs": [],
   "source": [
    "cleaner.update_final_schedule()"
   ]
  },
  {
   "cell_type": "code",
   "execution_count": null,
   "id": "85e0372f-ff10-4814-8ca0-ef41986a3242",
   "metadata": {},
   "outputs": [],
   "source": []
  },
  {
   "cell_type": "markdown",
   "id": "04027114-8808-4eed-8986-9a6f2be9773d",
   "metadata": {},
   "source": [
    "## Cup"
   ]
  },
  {
   "cell_type": "code",
   "execution_count": 1,
   "id": "1218ba78-b122-43d3-9209-5759550ca33d",
   "metadata": {},
   "outputs": [],
   "source": [
    "import os\n",
    "from wfmaster.scraper import CupScraper\n",
    "\n",
    "scraper = CupScraper()"
   ]
  },
  {
   "cell_type": "code",
   "execution_count": 2,
   "id": "f32e9673-9680-4a20-9a12-a29af5a23687",
   "metadata": {},
   "outputs": [
    {
     "name": "stderr",
     "output_type": "stream",
     "text": [
      "Scraping competitions: 100%|██████████████████████████████████████████████████| 16/16 [00:19<00:00,  1.21s/competition]\n"
     ]
    }
   ],
   "source": [
    "data = scraper.scrape()"
   ]
  },
  {
   "cell_type": "code",
   "execution_count": 3,
   "id": "00da552c-b8cf-4ab6-adc4-b3c4a136cc61",
   "metadata": {},
   "outputs": [],
   "source": [
    "scraper.save()"
   ]
  },
  {
   "cell_type": "code",
   "execution_count": 1,
   "id": "947646d7-cab6-4d72-8b42-34d410c1f361",
   "metadata": {},
   "outputs": [],
   "source": [
    "import pandas as pd\n",
    "\n",
    "df = pd.read_excel(\"../output/sch_cupscraper.xlsx\")"
   ]
  },
  {
   "cell_type": "code",
   "execution_count": 2,
   "id": "950d098c-375d-4cf8-85fe-3b65a1ae8251",
   "metadata": {},
   "outputs": [],
   "source": [
    "from wfmaster.cleaner import CupCleaner"
   ]
  },
  {
   "cell_type": "code",
   "execution_count": 3,
   "id": "2d993ac2-a92d-4e9e-9ab7-e44a3b7e897c",
   "metadata": {},
   "outputs": [],
   "source": [
    "cleaner = CupCleaner()"
   ]
  },
  {
   "cell_type": "code",
   "execution_count": 4,
   "id": "83585e55-c68c-4f0a-a5ed-97bffbc8aaf9",
   "metadata": {},
   "outputs": [],
   "source": [
    "cleaner.clean(input_data = df)"
   ]
  },
  {
   "cell_type": "code",
   "execution_count": 5,
   "id": "d9e9e791-eedb-4670-9e24-6dd372075adc",
   "metadata": {},
   "outputs": [],
   "source": [
    "cleaner.save()"
   ]
  },
  {
   "cell_type": "code",
   "execution_count": 6,
   "id": "9417ef68-e4d9-4b38-8d19-b2d65dca8029",
   "metadata": {},
   "outputs": [],
   "source": [
    "cleaner.update_final_schedule()"
   ]
  },
  {
   "cell_type": "code",
   "execution_count": null,
   "id": "c3b51ad3-dff0-4846-a8d8-a21361de3cdc",
   "metadata": {},
   "outputs": [],
   "source": []
  }
 ],
 "metadata": {
  "kernelspec": {
   "display_name": "Python 3 (ipykernel)",
   "language": "python",
   "name": "python3"
  },
  "language_info": {
   "codemirror_mode": {
    "name": "ipython",
    "version": 3
   },
   "file_extension": ".py",
   "mimetype": "text/x-python",
   "name": "python",
   "nbconvert_exporter": "python",
   "pygments_lexer": "ipython3",
   "version": "3.12.3"
  }
 },
 "nbformat": 4,
 "nbformat_minor": 5
}
