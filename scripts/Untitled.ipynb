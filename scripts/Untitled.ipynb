{
 "cells": [
  {
   "cell_type": "code",
   "execution_count": 1,
   "id": "1aeb8506-2941-4b5e-af13-1a0d05dc2a2b",
   "metadata": {
    "scrolled": true
   },
   "outputs": [
    {
     "name": "stderr",
     "output_type": "stream",
     "text": [
      "Scraping schedule:   0%|                                                                     | 0/5 [00:00<?, ?league/s]\n",
      "\u001b[Aaping schedule for EPL:   0%|                                                             | 0/38 [00:00<?, ?round/s]\n",
      "\u001b[Aaping schedule for EPL:   3%|█▍                                                   | 1/38 [00:02<01:27,  2.35s/round]\n",
      "\u001b[Aaping schedule for EPL:   5%|██▊                                                  | 2/38 [00:04<01:09,  1.94s/round]\n",
      "\u001b[Aaping schedule for EPL:   8%|████▏                                                | 3/38 [00:05<01:07,  1.94s/round]\n",
      "\u001b[Aaping schedule for EPL:  11%|█████▌                                               | 4/38 [00:07<01:02,  1.83s/round]\n",
      "\u001b[Aaping schedule for EPL:  13%|██████▉                                              | 5/38 [00:09<00:57,  1.75s/round]\n",
      "\u001b[Aaping schedule for EPL:  16%|████████▎                                            | 6/38 [00:10<00:56,  1.75s/round]\n",
      "\u001b[Aaping schedule for EPL:  18%|█████████▊                                           | 7/38 [00:12<00:52,  1.71s/round]\n",
      "\u001b[Aaping schedule for EPL:  21%|███████████▏                                         | 8/38 [00:14<00:53,  1.77s/round]\n",
      "\u001b[Aaping schedule for EPL:  24%|████████████▌                                        | 9/38 [00:16<00:51,  1.78s/round]\n",
      "\u001b[Aaping schedule for EPL:  26%|█████████████▋                                      | 10/38 [00:17<00:48,  1.72s/round]\n",
      "\u001b[Aaping schedule for EPL:  29%|███████████████                                     | 11/38 [00:19<00:46,  1.72s/round]\n",
      "\u001b[Aaping schedule for EPL:  32%|████████████████▍                                   | 12/38 [00:21<00:44,  1.70s/round]\n",
      "\u001b[Aaping schedule for EPL:  34%|█████████████████▊                                  | 13/38 [00:22<00:42,  1.69s/round]\n",
      "\u001b[Aaping schedule for EPL:  37%|███████████████████▏                                | 14/38 [00:24<00:40,  1.67s/round]\n",
      "\u001b[Aaping schedule for EPL:  39%|████████████████████▌                               | 15/38 [00:26<00:38,  1.65s/round]\n",
      "\u001b[Aaping schedule for EPL:  42%|█████████████████████▉                              | 16/38 [00:27<00:36,  1.68s/round]\n",
      "\u001b[Aaping schedule for EPL:  45%|███████████████████████▎                            | 17/38 [00:29<00:35,  1.68s/round]\n",
      "\u001b[Aaping schedule for EPL:  47%|████████████████████████▋                           | 18/38 [00:31<00:33,  1.68s/round]\n",
      "\u001b[Aaping schedule for EPL:  50%|██████████████████████████                          | 19/38 [00:32<00:32,  1.68s/round]\n",
      "\u001b[Aaping schedule for EPL:  53%|███████████████████████████▎                        | 20/38 [00:34<00:31,  1.77s/round]\n",
      "\u001b[Aaping schedule for EPL:  55%|████████████████████████████▋                       | 21/38 [00:36<00:29,  1.71s/round]\n",
      "\u001b[Aaping schedule for EPL:  58%|██████████████████████████████                      | 22/38 [00:38<00:27,  1.69s/round]\n",
      "\u001b[Aaping schedule for EPL:  61%|███████████████████████████████▍                    | 23/38 [00:39<00:25,  1.71s/round]\n",
      "\u001b[Aaping schedule for EPL:  63%|████████████████████████████████▊                   | 24/38 [00:41<00:23,  1.68s/round]\n",
      "\u001b[Aaping schedule for EPL:  66%|██████████████████████████████████▏                 | 25/38 [00:43<00:21,  1.68s/round]\n",
      "\u001b[Aaping schedule for EPL:  68%|███████████████████████████████████▌                | 26/38 [00:44<00:20,  1.68s/round]\n",
      "\u001b[Aaping schedule for EPL:  71%|████████████████████████████████████▉               | 27/38 [00:46<00:18,  1.67s/round]\n",
      "\u001b[Aaping schedule for EPL:  74%|██████████████████████████████████████▎             | 28/38 [00:48<00:16,  1.67s/round]\n",
      "\u001b[Aaping schedule for EPL:  76%|███████████████████████████████████████▋            | 29/38 [00:49<00:14,  1.66s/round]\n",
      "\u001b[Aaping schedule for EPL:  79%|█████████████████████████████████████████           | 30/38 [00:51<00:13,  1.69s/round]\n",
      "\u001b[Aaping schedule for EPL:  82%|██████████████████████████████████████████▍         | 31/38 [00:53<00:11,  1.69s/round]\n",
      "\u001b[Aaping schedule for EPL:  84%|███████████████████████████████████████████▊        | 32/38 [00:54<00:10,  1.69s/round]\n",
      "\u001b[Aaping schedule for EPL:  87%|█████████████████████████████████████████████▏      | 33/38 [00:56<00:08,  1.68s/round]\n",
      "\u001b[Aaping schedule for EPL:  89%|██████████████████████████████████████████████▌     | 34/38 [00:58<00:06,  1.71s/round]\n",
      "\u001b[Aaping schedule for EPL:  92%|███████████████████████████████████████████████▉    | 35/38 [01:00<00:05,  1.70s/round]\n",
      "\u001b[Aaping schedule for EPL:  95%|█████████████████████████████████████████████████▎  | 36/38 [01:01<00:03,  1.71s/round]\n",
      "\u001b[Aaping schedule for EPL:  97%|██████████████████████████████████████████████████▋ | 37/38 [01:03<00:01,  1.70s/round]\n",
      "Scraping schedule for EPL: 100%|████████████████████████████████████████████████████| 38/38 [01:05<00:00,  1.72s/round]\n",
      "Scraping schedule:  20%|████████████▏                                                | 1/5 [01:05<04:20, 65.20s/league]\n",
      "\u001b[Aaping schedule for La Liga:   0%|                                                         | 0/38 [00:00<?, ?round/s]\n",
      "\u001b[Aaping schedule for La Liga:   3%|█▎                                               | 1/38 [00:01<01:01,  1.66s/round]\n",
      "\u001b[Aaping schedule for La Liga:   5%|██▌                                              | 2/38 [00:03<00:59,  1.64s/round]\n",
      "\u001b[Aaping schedule for La Liga:   8%|███▊                                             | 3/38 [00:05<00:58,  1.68s/round]\n",
      "\u001b[Aaping schedule for La Liga:  11%|█████▏                                           | 4/38 [00:06<00:56,  1.66s/round]\n",
      "\u001b[Aaping schedule for La Liga:  13%|██████▍                                          | 5/38 [00:08<00:53,  1.63s/round]\n",
      "\u001b[Aaping schedule for La Liga:  16%|███████▋                                         | 6/38 [00:09<00:52,  1.64s/round]\n",
      "\u001b[Aaping schedule for La Liga:  18%|█████████                                        | 7/38 [00:11<00:50,  1.62s/round]\n",
      "\u001b[Aaping schedule for La Liga:  21%|██████████▎                                      | 8/38 [00:13<00:49,  1.64s/round]\n",
      "\u001b[Aaping schedule for La Liga:  24%|███████████▌                                     | 9/38 [00:14<00:47,  1.63s/round]\n",
      "\u001b[Aaping schedule for La Liga:  26%|████████████▋                                   | 10/38 [00:16<00:45,  1.63s/round]\n",
      "\u001b[Aaping schedule for La Liga:  29%|█████████████▉                                  | 11/38 [00:17<00:43,  1.62s/round]\n",
      "\u001b[Aaping schedule for La Liga:  32%|███████████████▏                                | 12/38 [00:19<00:41,  1.61s/round]\n",
      "\u001b[Aaping schedule for La Liga:  34%|████████████████▍                               | 13/38 [00:21<00:40,  1.61s/round]\n",
      "\u001b[Aaping schedule for La Liga:  37%|█████████████████▋                              | 14/38 [00:22<00:39,  1.65s/round]\n",
      "\u001b[Aaping schedule for La Liga:  39%|██████████████████▉                             | 15/38 [00:24<00:37,  1.63s/round]\n",
      "\u001b[Aaping schedule for La Liga:  42%|████████████████████▏                           | 16/38 [00:26<00:35,  1.62s/round]\n",
      "\u001b[Aaping schedule for La Liga:  45%|█████████████████████▍                          | 17/38 [00:27<00:34,  1.62s/round]\n",
      "\u001b[Aaping schedule for La Liga:  47%|██████████████████████▋                         | 18/38 [00:29<00:34,  1.73s/round]\n",
      "\u001b[Aaping schedule for La Liga:  50%|████████████████████████                        | 19/38 [00:31<00:33,  1.74s/round]\n",
      "\u001b[Aaping schedule for La Liga:  53%|█████████████████████████▎                      | 20/38 [00:33<00:31,  1.74s/round]\n",
      "\u001b[Aaping schedule for La Liga:  55%|██████████████████████████▌                     | 21/38 [00:35<00:34,  2.02s/round]\n",
      "\u001b[Aaping schedule for La Liga:  58%|███████████████████████████▊                    | 22/38 [00:37<00:30,  1.93s/round]\n",
      "\u001b[Aaping schedule for La Liga:  61%|█████████████████████████████                   | 23/38 [00:39<00:27,  1.86s/round]\n",
      "\u001b[Aaping schedule for La Liga:  63%|██████████████████████████████▎                 | 24/38 [00:41<00:26,  1.89s/round]\n",
      "\u001b[Aaping schedule for La Liga:  66%|███████████████████████████████▌                | 25/38 [00:43<00:24,  1.86s/round]\n",
      "\u001b[Aaping schedule for La Liga:  68%|████████████████████████████████▊               | 26/38 [00:44<00:21,  1.81s/round]\n",
      "\u001b[Aaping schedule for La Liga:  71%|██████████████████████████████████              | 27/38 [00:46<00:19,  1.78s/round]\n",
      "\u001b[Aaping schedule for La Liga:  74%|███████████████████████████████████▎            | 28/38 [00:48<00:17,  1.76s/round]\n",
      "\u001b[Aaping schedule for La Liga:  76%|████████████████████████████████████▋           | 29/38 [00:49<00:15,  1.72s/round]\n",
      "\u001b[Aaping schedule for La Liga:  79%|█████████████████████████████████████▉          | 30/38 [00:51<00:13,  1.68s/round]\n",
      "\u001b[Aaping schedule for La Liga:  82%|███████████████████████████████████████▏        | 31/38 [00:53<00:11,  1.66s/round]\n",
      "\u001b[Aaping schedule for La Liga:  84%|████████████████████████████████████████▍       | 32/38 [00:54<00:09,  1.66s/round]\n",
      "\u001b[Aaping schedule for La Liga:  87%|█████████████████████████████████████████▋      | 33/38 [00:56<00:08,  1.71s/round]\n",
      "\u001b[Aaping schedule for La Liga:  89%|██████████████████████████████████████████▉     | 34/38 [00:58<00:06,  1.69s/round]\n",
      "\u001b[Aaping schedule for La Liga:  92%|████████████████████████████████████████████▏   | 35/38 [00:59<00:05,  1.67s/round]\n",
      "\u001b[Aaping schedule for La Liga:  95%|█████████████████████████████████████████████▍  | 36/38 [01:01<00:03,  1.68s/round]\n",
      "\u001b[Aaping schedule for La Liga:  97%|██████████████████████████████████████████████▋ | 37/38 [01:03<00:01,  1.67s/round]\n",
      "Scraping schedule for La Liga: 100%|████████████████████████████████████████████████| 38/38 [01:04<00:00,  1.70s/round]\n",
      "Scraping schedule:  40%|████████████████████████▍                                    | 2/5 [02:09<03:14, 64.95s/league]\n",
      "\u001b[Aaping schedule for Bundesliga:   0%|                                                      | 0/34 [00:00<?, ?round/s]\n",
      "\u001b[Aaping schedule for Bundesliga:   3%|█▎                                            | 1/34 [00:01<00:50,  1.53s/round]\n",
      "\u001b[Aaping schedule for Bundesliga:   6%|██▋                                           | 2/34 [00:03<00:50,  1.59s/round]\n",
      "\u001b[Aaping schedule for Bundesliga:   9%|████                                          | 3/34 [00:04<00:48,  1.56s/round]\n",
      "\u001b[Aaping schedule for Bundesliga:  12%|█████▍                                        | 4/34 [00:06<00:46,  1.55s/round]\n",
      "\u001b[Aaping schedule for Bundesliga:  15%|██████▊                                       | 5/34 [00:07<00:44,  1.55s/round]\n",
      "\u001b[Aaping schedule for Bundesliga:  18%|████████                                      | 6/34 [00:09<00:43,  1.54s/round]\n",
      "\u001b[Aaping schedule for Bundesliga:  21%|█████████▍                                    | 7/34 [00:10<00:41,  1.55s/round]\n",
      "\u001b[Aaping schedule for Bundesliga:  24%|██████████▊                                   | 8/34 [00:12<00:41,  1.59s/round]\n",
      "\u001b[Aaping schedule for Bundesliga:  26%|████████████▏                                 | 9/34 [00:14<00:40,  1.61s/round]\n",
      "\u001b[Aaping schedule for Bundesliga:  29%|█████████████▏                               | 10/34 [00:15<00:38,  1.59s/round]\n",
      "\u001b[Aaping schedule for Bundesliga:  32%|██████████████▌                              | 11/34 [00:17<00:36,  1.58s/round]\n",
      "\u001b[Aaping schedule for Bundesliga:  35%|███████████████▉                             | 12/34 [00:18<00:34,  1.59s/round]\n",
      "\u001b[Aaping schedule for Bundesliga:  38%|█████████████████▏                           | 13/34 [00:20<00:33,  1.59s/round]\n",
      "\u001b[Aaping schedule for Bundesliga:  41%|██████████████████▌                          | 14/34 [00:22<00:31,  1.58s/round]\n",
      "\u001b[Aaping schedule for Bundesliga:  44%|███████████████████▊                         | 15/34 [00:23<00:30,  1.58s/round]\n",
      "\u001b[Aaping schedule for Bundesliga:  47%|█████████████████████▏                       | 16/34 [00:25<00:28,  1.58s/round]\n",
      "\u001b[Aaping schedule for Bundesliga:  50%|██████████████████████▌                      | 17/34 [00:26<00:27,  1.60s/round]\n",
      "\u001b[Aaping schedule for Bundesliga:  53%|███████████████████████▊                     | 18/34 [00:28<00:25,  1.62s/round]\n",
      "\u001b[Aaping schedule for Bundesliga:  56%|█████████████████████████▏                   | 19/34 [00:30<00:23,  1.59s/round]\n",
      "\u001b[Aaping schedule for Bundesliga:  59%|██████████████████████████▍                  | 20/34 [00:31<00:22,  1.58s/round]\n",
      "\u001b[Aaping schedule for Bundesliga:  62%|███████████████████████████▊                 | 21/34 [00:33<00:20,  1.59s/round]\n",
      "\u001b[Aaping schedule for Bundesliga:  65%|█████████████████████████████                | 22/34 [00:34<00:18,  1.58s/round]\n",
      "\u001b[Aaping schedule for Bundesliga:  68%|██████████████████████████████▍              | 23/34 [00:36<00:18,  1.65s/round]\n",
      "\u001b[Aaping schedule for Bundesliga:  71%|███████████████████████████████▊             | 24/34 [00:38<00:16,  1.62s/round]\n",
      "\u001b[Aaping schedule for Bundesliga:  74%|█████████████████████████████████            | 25/34 [00:39<00:14,  1.61s/round]\n",
      "\u001b[Aaping schedule for Bundesliga:  76%|██████████████████████████████████▍          | 26/34 [00:41<00:12,  1.60s/round]\n",
      "\u001b[Aaping schedule for Bundesliga:  79%|███████████████████████████████████▋         | 27/34 [00:42<00:11,  1.60s/round]\n",
      "\u001b[Aaping schedule for Bundesliga:  82%|█████████████████████████████████████        | 28/34 [00:44<00:09,  1.59s/round]\n",
      "\u001b[Aaping schedule for Bundesliga:  85%|██████████████████████████████████████▍      | 29/34 [00:46<00:07,  1.60s/round]\n",
      "\u001b[Aaping schedule for Bundesliga:  88%|███████████████████████████████████████▋     | 30/34 [00:47<00:06,  1.59s/round]\n",
      "\u001b[Aaping schedule for Bundesliga:  91%|█████████████████████████████████████████    | 31/34 [00:49<00:04,  1.59s/round]\n",
      "\u001b[Aaping schedule for Bundesliga:  94%|██████████████████████████████████████████▎  | 32/34 [00:50<00:03,  1.62s/round]\n",
      "\u001b[Aaping schedule for Bundesliga:  97%|███████████████████████████████████████████▋ | 33/34 [00:52<00:01,  1.63s/round]\n",
      "Scraping schedule for Bundesliga: 100%|█████████████████████████████████████████████| 34/34 [00:54<00:00,  1.59s/round]\n",
      "Scraping schedule:  60%|████████████████████████████████████▌                        | 3/5 [03:04<02:00, 60.02s/league]\n",
      "\u001b[Aaping schedule for Ligue 1:   0%|                                                         | 0/34 [00:00<?, ?round/s]\n",
      "\u001b[Aaping schedule for Ligue 1:   3%|█▍                                               | 1/34 [00:01<00:51,  1.57s/round]\n",
      "\u001b[Aaping schedule for Ligue 1:   6%|██▉                                              | 2/34 [00:03<00:50,  1.57s/round]\n",
      "\u001b[Aaping schedule for Ligue 1:   9%|████▎                                            | 3/34 [00:04<00:49,  1.58s/round]\n",
      "\u001b[Aaping schedule for Ligue 1:  12%|█████▊                                           | 4/34 [00:06<00:47,  1.58s/round]\n",
      "\u001b[Aaping schedule for Ligue 1:  15%|███████▏                                         | 5/34 [00:07<00:46,  1.59s/round]\n",
      "\u001b[Aaping schedule for Ligue 1:  18%|████████▋                                        | 6/34 [00:09<00:44,  1.59s/round]\n",
      "\u001b[Aaping schedule for Ligue 1:  21%|██████████                                       | 7/34 [00:11<00:42,  1.59s/round]\n",
      "\u001b[Aaping schedule for Ligue 1:  24%|███████████▌                                     | 8/34 [00:12<00:41,  1.58s/round]\n",
      "\u001b[Aaping schedule for Ligue 1:  26%|████████████▉                                    | 9/34 [00:15<00:45,  1.83s/round]\n",
      "\u001b[Aaping schedule for Ligue 1:  29%|██████████████                                  | 10/34 [00:16<00:41,  1.75s/round]\n",
      "\u001b[Aaping schedule for Ligue 1:  32%|███████████████▌                                | 11/34 [00:18<00:39,  1.71s/round]\n",
      "\u001b[Aaping schedule for Ligue 1:  35%|████████████████▉                               | 12/34 [00:19<00:36,  1.68s/round]\n",
      "\u001b[Aaping schedule for Ligue 1:  38%|██████████████████▎                             | 13/34 [00:21<00:34,  1.66s/round]\n",
      "\u001b[Aaping schedule for Ligue 1:  41%|███████████████████▊                            | 14/34 [00:23<00:32,  1.64s/round]\n",
      "\u001b[Aaping schedule for Ligue 1:  44%|█████████████████████▏                          | 15/34 [00:25<00:34,  1.81s/round]\n",
      "\u001b[Aaping schedule for Ligue 1:  47%|██████████████████████▌                         | 16/34 [00:26<00:31,  1.75s/round]\n",
      "\u001b[Aaping schedule for Ligue 1:  50%|████████████████████████                        | 17/34 [00:28<00:29,  1.71s/round]\n",
      "\u001b[Aaping schedule for Ligue 1:  53%|█████████████████████████▍                      | 18/34 [00:30<00:28,  1.79s/round]\n",
      "\u001b[Aaping schedule for Ligue 1:  56%|██████████████████████████▊                     | 19/34 [00:32<00:27,  1.82s/round]\n",
      "\u001b[Aaping schedule for Ligue 1:  59%|████████████████████████████▏                   | 20/34 [00:34<00:24,  1.78s/round]\n",
      "\u001b[Aaping schedule for Ligue 1:  62%|█████████████████████████████▋                  | 21/34 [00:36<00:24,  1.87s/round]\n",
      "\u001b[Aaping schedule for Ligue 1:  65%|███████████████████████████████                 | 22/34 [00:37<00:21,  1.80s/round]\n",
      "\u001b[Aaping schedule for Ligue 1:  68%|████████████████████████████████▍               | 23/34 [00:39<00:19,  1.81s/round]\n",
      "\u001b[Aaping schedule for Ligue 1:  71%|█████████████████████████████████▉              | 24/34 [00:41<00:17,  1.78s/round]\n",
      "\u001b[Aaping schedule for Ligue 1:  74%|███████████████████████████████████▎            | 25/34 [00:42<00:15,  1.76s/round]\n",
      "\u001b[Aaping schedule for Ligue 1:  76%|████████████████████████████████████▋           | 26/34 [00:44<00:14,  1.83s/round]\n",
      "\u001b[Aaping schedule for Ligue 1:  79%|██████████████████████████████████████          | 27/34 [00:46<00:12,  1.79s/round]\n",
      "\u001b[Aaping schedule for Ligue 1:  82%|███████████████████████████████████████▌        | 28/34 [00:48<00:10,  1.82s/round]\n",
      "\u001b[Aaping schedule for Ligue 1:  85%|████████████████████████████████████████▉       | 29/34 [00:50<00:08,  1.75s/round]\n",
      "\u001b[Aaping schedule for Ligue 1:  88%|██████████████████████████████████████████▎     | 30/34 [00:51<00:06,  1.72s/round]\n",
      "\u001b[Aaping schedule for Ligue 1:  91%|███████████████████████████████████████████▊    | 31/34 [00:53<00:05,  1.70s/round]\n",
      "\u001b[Aaping schedule for Ligue 1:  94%|█████████████████████████████████████████████▏  | 32/34 [00:55<00:03,  1.68s/round]\n",
      "\u001b[Aaping schedule for Ligue 1:  97%|██████████████████████████████████████████████▌ | 33/34 [00:57<00:01,  1.76s/round]\n",
      "Scraping schedule for Ligue 1: 100%|████████████████████████████████████████████████| 34/34 [00:58<00:00,  1.73s/round]\n",
      "Scraping schedule:  80%|████████████████████████████████████████████████▊            | 4/5 [04:02<00:59, 59.50s/league]\n",
      "\u001b[Aaping schedule for Serie A:   0%|                                                         | 0/38 [00:00<?, ?round/s]\n",
      "\u001b[Aaping schedule for Serie A:   3%|█▎                                               | 1/38 [00:01<00:59,  1.62s/round]\n",
      "\u001b[Aaping schedule for Serie A:   5%|██▌                                              | 2/38 [00:03<01:03,  1.75s/round]\n",
      "\u001b[Aaping schedule for Serie A:   8%|███▊                                             | 3/38 [00:05<00:58,  1.68s/round]\n",
      "\u001b[Aaping schedule for Serie A:  11%|█████▏                                           | 4/38 [00:06<00:55,  1.64s/round]\n",
      "\u001b[Aaping schedule for Serie A:  13%|██████▍                                          | 5/38 [00:08<00:56,  1.72s/round]\n",
      "\u001b[Aaping schedule for Serie A:  16%|███████▋                                         | 6/38 [00:10<00:54,  1.71s/round]\n",
      "\u001b[Aaping schedule for Serie A:  18%|█████████                                        | 7/38 [00:11<00:52,  1.69s/round]\n",
      "\u001b[Aaping schedule for Serie A:  21%|██████████▎                                      | 8/38 [00:13<00:49,  1.66s/round]\n",
      "\u001b[Aaping schedule for Serie A:  24%|███████████▌                                     | 9/38 [00:15<00:47,  1.64s/round]\n",
      "\u001b[Aaping schedule for Serie A:  26%|████████████▋                                   | 10/38 [00:16<00:45,  1.63s/round]\n",
      "\u001b[Aaping schedule for Serie A:  29%|█████████████▉                                  | 11/38 [00:18<00:44,  1.65s/round]\n",
      "\u001b[Aaping schedule for Serie A:  32%|███████████████▏                                | 12/38 [00:21<00:51,  1.99s/round]\n",
      "\u001b[Aaping schedule for Serie A:  34%|████████████████▍                               | 13/38 [00:22<00:46,  1.88s/round]\n",
      "\u001b[Aaping schedule for Serie A:  37%|█████████████████▋                              | 14/38 [00:24<00:43,  1.82s/round]\n",
      "\u001b[Aaping schedule for Serie A:  39%|██████████████████▉                             | 15/38 [00:26<00:40,  1.77s/round]\n",
      "\u001b[Aaping schedule for Serie A:  42%|████████████████████▏                           | 16/38 [00:27<00:37,  1.73s/round]\n",
      "\u001b[Aaping schedule for Serie A:  45%|█████████████████████▍                          | 17/38 [00:29<00:35,  1.71s/round]\n",
      "\u001b[Aaping schedule for Serie A:  47%|██████████████████████▋                         | 18/38 [00:30<00:33,  1.68s/round]\n",
      "\u001b[Aaping schedule for Serie A:  50%|████████████████████████                        | 19/38 [00:32<00:31,  1.68s/round]\n",
      "\u001b[Aaping schedule for Serie A:  53%|█████████████████████████▎                      | 20/38 [00:34<00:30,  1.67s/round]\n",
      "\u001b[Aaping schedule for Serie A:  55%|██████████████████████████▌                     | 21/38 [00:35<00:28,  1.66s/round]\n",
      "\u001b[Aaping schedule for Serie A:  58%|███████████████████████████▊                    | 22/38 [00:37<00:26,  1.66s/round]\n",
      "\u001b[Aaping schedule for Serie A:  61%|█████████████████████████████                   | 23/38 [00:39<00:24,  1.64s/round]\n",
      "\u001b[Aaping schedule for Serie A:  63%|██████████████████████████████▎                 | 24/38 [00:40<00:23,  1.65s/round]\n",
      "\u001b[Aaping schedule for Serie A:  66%|███████████████████████████████▌                | 25/38 [00:42<00:21,  1.64s/round]\n",
      "\u001b[Aaping schedule for Serie A:  68%|████████████████████████████████▊               | 26/38 [00:44<00:19,  1.63s/round]\n",
      "\u001b[Aaping schedule for Serie A:  71%|██████████████████████████████████              | 27/38 [00:45<00:17,  1.63s/round]\n",
      "\u001b[Aaping schedule for Serie A:  74%|███████████████████████████████████▎            | 28/38 [00:47<00:16,  1.64s/round]\n",
      "\u001b[Aaping schedule for Serie A:  76%|████████████████████████████████████▋           | 29/38 [00:49<00:14,  1.64s/round]\n",
      "\u001b[Aaping schedule for Serie A:  79%|█████████████████████████████████████▉          | 30/38 [00:50<00:13,  1.63s/round]\n",
      "\u001b[Aaping schedule for Serie A:  82%|███████████████████████████████████████▏        | 31/38 [00:52<00:11,  1.64s/round]\n",
      "\u001b[Aaping schedule for Serie A:  84%|████████████████████████████████████████▍       | 32/38 [00:54<00:10,  1.68s/round]\n",
      "\u001b[Aaping schedule for Serie A:  87%|█████████████████████████████████████████▋      | 33/38 [00:56<00:09,  1.91s/round]\n",
      "\u001b[Aaping schedule for Serie A:  89%|██████████████████████████████████████████▉     | 34/38 [00:58<00:07,  1.83s/round]\n",
      "\u001b[Aaping schedule for Serie A:  92%|████████████████████████████████████████████▏   | 35/38 [00:59<00:05,  1.83s/round]\n",
      "\u001b[Aaping schedule for Serie A:  95%|█████████████████████████████████████████████▍  | 36/38 [01:01<00:03,  1.79s/round]\n",
      "\u001b[Aaping schedule for Serie A:  97%|██████████████████████████████████████████████▋ | 37/38 [01:03<00:01,  1.74s/round]\n",
      "Scraping schedule for Serie A: 100%|████████████████████████████████████████████████| 38/38 [01:05<00:00,  1.72s/round]\n",
      "Scraping schedule: 100%|█████████████████████████████████████████████████████████████| 5/5 [05:08<00:00, 61.61s/league]\n"
     ]
    },
    {
     "name": "stdout",
     "output_type": "stream",
     "text": [
      "Scraping completed successfully! Found 1752 matches.\n"
     ]
    }
   ],
   "source": [
    "import os\n",
    "from wfmaster.scraper import LeagueScraper\n",
    "\n",
    "scraper = LeagueScraper()\n",
    "data = scraper.scrape()\n",
    "        \n",
    "scraper.save()\n",
    "print(f\"Scraping completed successfully! Found {len(data)} matches.\")\n"
   ]
  },
  {
   "cell_type": "code",
   "execution_count": 2,
   "id": "87ce87dc-166a-4ccc-b2ee-5e0767947e0d",
   "metadata": {},
   "outputs": [],
   "source": [
    "import pandas as pd\n",
    "\n",
    "df = pd.read_excel(\"../output/sch_fiveleaguescraper.xlsx\")"
   ]
  },
  {
   "cell_type": "code",
   "execution_count": 1,
   "id": "8cd54ff4-5944-4471-a8b6-3dd32ef4730e",
   "metadata": {},
   "outputs": [],
   "source": [
    "from wfmaster.cleaner import LeagueCleaner"
   ]
  },
  {
   "cell_type": "code",
   "execution_count": 3,
   "id": "504c30bd-5721-45ed-855f-cc23ada95c0e",
   "metadata": {},
   "outputs": [],
   "source": [
    "cleaner = LeagueCleaner()"
   ]
  },
  {
   "cell_type": "code",
   "execution_count": 4,
   "id": "292561ff-54cb-407b-9d0d-23e8399ac466",
   "metadata": {},
   "outputs": [],
   "source": [
    "cleaner.clean(input_data=df)"
   ]
  },
  {
   "cell_type": "code",
   "execution_count": 5,
   "id": "bff969ed-8815-4e86-9b2f-1426e727e196",
   "metadata": {},
   "outputs": [],
   "source": [
    "cleaner.update_final_schedule(initial=True)"
   ]
  },
  {
   "cell_type": "code",
   "execution_count": null,
   "id": "17e0d059-a90c-40bd-b853-aed67cb8621b",
   "metadata": {},
   "outputs": [],
   "source": []
  },
  {
   "cell_type": "code",
   "execution_count": 6,
   "id": "1504763d-5058-490f-8366-a97193fb2b6d",
   "metadata": {},
   "outputs": [],
   "source": [
    "cleaner.save()"
   ]
  },
  {
   "cell_type": "code",
   "execution_count": 10,
   "id": "db9985fd-982d-4f01-9e03-ac8cea58f043",
   "metadata": {},
   "outputs": [],
   "source": [
    "cleaner.update_final_schedule()"
   ]
  },
  {
   "cell_type": "code",
   "execution_count": 13,
   "id": "c8dc1506-0757-4fb3-bb1c-bdc8a7762107",
   "metadata": {},
   "outputs": [
    {
     "data": {
      "text/plain": [
       "True"
      ]
     },
     "execution_count": 13,
     "metadata": {},
     "output_type": "execute_result"
    }
   ],
   "source": [
    "\"10\".isdigit()"
   ]
  }
 ],
 "metadata": {
  "kernelspec": {
   "display_name": "Python 3 (ipykernel)",
   "language": "python",
   "name": "python3"
  },
  "language_info": {
   "codemirror_mode": {
    "name": "ipython",
    "version": 3
   },
   "file_extension": ".py",
   "mimetype": "text/x-python",
   "name": "python",
   "nbconvert_exporter": "python",
   "pygments_lexer": "ipython3",
   "version": "3.12.3"
  }
 },
 "nbformat": 4,
 "nbformat_minor": 5
}
